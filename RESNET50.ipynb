{
 "cells": [
  {
   "cell_type": "code",
   "execution_count": null,
   "id": "e0dd4112",
   "metadata": {},
   "outputs": [],
   "source": [
    "import os\n",
    "import cv2\n",
    "import numpy as np\n",
    "import tensorflow as tf\n",
    "import seaborn as sn\n",
    "import keras\n",
    "import opendatasets as od\n",
    "\n",
    "from tensorflow import keras\n",
    "from tensorflow.keras.utils import img_to_array, load_img\n",
    "\n",
    "from imutils import paths\n",
    "\n",
    "from sklearn.preprocessing import LabelEncoder\n",
    "from sklearn.model_selection import train_test_split, StratifiedKFold\n",
    "from sklearn.metrics import classification_report\n",
    "from sklearn.metrics import confusion_matrix\n",
    "from sklearn.metrics import accuracy_score, precision_score, recall_score, f1_score, matthews_corrcoef\n",
    "\n",
    "from keras.preprocessing.image import ImageDataGenerator\n",
    "from keras.applications.vgg19 import VGG19\n",
    "from keras.models import Model\n",
    "from keras.layers import Dense, GlobalAveragePooling2D\n",
    "from keras.optimizers import Adam\n",
    "from keras.models import Sequential\n",
    "from keras.layers import Conv2D,MaxPool2D,Flatten,Dense,Dropout,Input,AveragePooling2D\n",
    "from keras.preprocessing.image import ImageDataGenerator\n",
    "from keras.applications import ResNet50V2\n",
    "from keras.models import Model\n",
    "from keras.callbacks import EarlyStopping\n",
    "\n",
    "%matplotlib inline\n",
    "from matplotlib import pyplot as plt \n",
    "from matplotlib import image as mpimg"
   ]
  },
  {
   "cell_type": "code",
   "execution_count": null,
   "id": "9ed9007e",
   "metadata": {},
   "outputs": [],
   "source": [
    "#uncomment this cell to download the dataset\n",
    "#od.download('https://www.kaggle.com/datasets/iarunava/cell-images-for-detecting-malaria')"
   ]
  },
  {
   "cell_type": "code",
   "execution_count": null,
   "id": "285e2d53",
   "metadata": {},
   "outputs": [],
   "source": [
    "class SimpleDatasetLoader:\n",
    "    # Method: Constructor\n",
    "    def __init__(self, preprocessors=None):\n",
    "        \"\"\"\n",
    "        :param preprocessors: List of image preprocessors\n",
    "        \"\"\"\n",
    "        self.preprocessors = preprocessors\n",
    "\n",
    "        if self.preprocessors is None:\n",
    "            self.preprocessors = []\n",
    "\n",
    "    # Method: Used to load a list of images for pre-processing\n",
    "    def load(self, image_paths, verbose=-1):\n",
    "        \"\"\"\n",
    "        :param image_paths: List of image paths\n",
    "        :param verbose: Parameter for printing information to console\n",
    "        :return: Tuple of data and labels\n",
    "        \"\"\"\n",
    "        data, labels = [], []\n",
    "\n",
    "        for i, image_path in enumerate(image_paths):\n",
    "            image = cv2.imread(image_path)\n",
    "            if image is None:\n",
    "                continue\n",
    "            label = image_path.split(os.path.sep)[-2]\n",
    "\n",
    "            if self.preprocessors is not None:\n",
    "                for p in self.preprocessors:\n",
    "                    image = p.preprocess(image)\n",
    "\n",
    "            data.append(image)\n",
    "            labels.append(label)\n",
    "\n",
    "            if verbose > 0 and i > 0 and (i+1) % verbose == 0:\n",
    "                print('[INFO]: Processed {}/{}'.format(i+1, len(image_paths)))\n",
    "\n",
    "        return (np.array(data), np.array(labels))"
   ]
  },
  {
   "cell_type": "code",
   "execution_count": null,
   "id": "7e7a35ab",
   "metadata": {},
   "outputs": [],
   "source": []
  },
  {
   "cell_type": "code",
   "execution_count": null,
   "id": "a536ca1a",
   "metadata": {},
   "outputs": [],
   "source": [
    "#Class Preprocessror \n",
    "class SimplePreprocessor:\n",
    "    # Method: Constructor\n",
    "    def __init__(self, width, height, interpolation=cv2.INTER_AREA):\n",
    "        \"\"\"\n",
    "        :param width: Image width\n",
    "        :param height: Image height\n",
    "        :param interpolation: Interpolation algorithm\n",
    "        \"\"\"\n",
    "        self.width = width\n",
    "        self.height = height\n",
    "        self.interpolation = interpolation\n",
    "\n",
    "    # Method: Used to resize the image to a fixed size (ignoring the aspect ratio)\n",
    "    def preprocess(self, image):\n",
    "        \"\"\"\n",
    "        :param image: Image\n",
    "        :return: Re-sized image\n",
    "        \"\"\"\n",
    "        return cv2.resize(image, (self.width, self.height), interpolation=self.interpolation)"
   ]
  },
  {
   "cell_type": "code",
   "execution_count": null,
   "id": "cd1e8824",
   "metadata": {},
   "outputs": [],
   "source": [
    "from __main__ import SimplePreprocessor\n",
    "from __main__ import SimpleDatasetLoader"
   ]
  },
  {
   "cell_type": "code",
   "execution_count": null,
   "id": "160e1603",
   "metadata": {},
   "outputs": [],
   "source": [
    "# Get list of image paths\n",
    "image_paths = list(paths.list_images(r\".\\cell-images-for-detecting-malaria\\cell_images\\cell_images\"))\n",
    "\n",
    "# Initialize SimplePreprocessor and SimpleDatasetLoader and load data and labels\n",
    "print('[INFO]: Images loading....')\n",
    "sp = SimplePreprocessor(100, 100)\n",
    "sdl = SimpleDatasetLoader(preprocessors=[sp])\n",
    "(data, labels) = sdl.load(image_paths, verbose=500)"
   ]
  },
  {
   "cell_type": "code",
   "execution_count": null,
   "id": "1c71ef5e",
   "metadata": {},
   "outputs": [],
   "source": [
    "data.shape"
   ]
  },
  {
   "cell_type": "code",
   "execution_count": null,
   "id": "b9b2dd66",
   "metadata": {},
   "outputs": [],
   "source": [
    "labels.shape"
   ]
  },
  {
   "cell_type": "code",
   "execution_count": null,
   "id": "4c676ef0",
   "metadata": {},
   "outputs": [],
   "source": [
    "# Creating the RESNET model\n",
    "baseModel =ResNet50V2(include_top=False,\n",
    "                     input_tensor=Input(shape=(100,100, 3)))\n",
    "headModel = baseModel.output\n",
    "headModel =baseModel.outputheadModel = AveragePooling2D(pool_size=(4, 4))(headModel)\n",
    "headModel =Flatten(name=\"flatten\")(headModel)\n",
    "headModel =Dense(128, activation=\"relu\")(headModel)\n",
    "headModel =Dropout(0.5)(headModel)\n",
    "headModel =Dense(1, activation=\"sigmoid\")(headModel)\n",
    "baseModel.summary()"
   ]
  },
  {
   "cell_type": "code",
   "execution_count": null,
   "id": "8c479a5e",
   "metadata": {},
   "outputs": [],
   "source": [
    "# Create the final model\n",
    "model =Model(inputs=baseModel.input, outputs=headModel)\n",
    "\n",
    "# Compile the model\n",
    "model.compile(optimizer=\"adam\",\n",
    "              loss=\"binary_crossentropy\",\n",
    "              metrics=[\"accuracy\"])"
   ]
  },
  {
   "cell_type": "code",
   "execution_count": null,
   "id": "78fe14fd",
   "metadata": {},
   "outputs": [],
   "source": [
    "# Set up data augmentation\n",
    "datagen = ImageDataGenerator(\n",
    "      rescale=1./255,\n",
    "      rotation_range=2,\n",
    "      width_shift_range=0.1,\n",
    "      height_shift_range=0.1,\n",
    "      shear_range=0.1,\n",
    "      zoom_range=0.5,\n",
    "      horizontal_flip=True,\n",
    "      vertical_flip=True,\n",
    "      fill_mode='nearest')"
   ]
  },
  {
   "cell_type": "code",
   "execution_count": null,
   "id": "1c87a640",
   "metadata": {},
   "outputs": [],
   "source": [
    "# Split the data into train and test sets\n",
    "x_train, x_test, y_train, y_test = train_test_split(data, labels, test_size=0.3, random_state=42)\n"
   ]
  },
  {
   "cell_type": "code",
   "execution_count": null,
   "id": "513e0957",
   "metadata": {},
   "outputs": [],
   "source": [
    "le = LabelEncoder()\n",
    "y_train = le.fit_transform(y_train)"
   ]
  },
  {
   "cell_type": "code",
   "execution_count": null,
   "id": "53fc1871",
   "metadata": {},
   "outputs": [],
   "source": [
    "le = LabelEncoder()\n",
    "y_test = le.fit_transform(y_test)"
   ]
  },
  {
   "cell_type": "code",
   "execution_count": null,
   "id": "823d7734",
   "metadata": {
    "scrolled": true
   },
   "outputs": [],
   "source": [
    "# Perform cross-validation\n",
    "kfold = StratifiedKFold(n_splits=10, shuffle=True, random_state=42)\n",
    "accuracy_scores = []\n",
    "precision_scores = []\n",
    "recall_scores = []\n",
    "f1_scores = []\n",
    "mcc_scores = []\n",
    "\n",
    "for train_index, val_index in kfold.split(x_train, y_train):\n",
    "    train_data, val_data = x_train[train_index], x_train[val_index]\n",
    "    train_labels, val_labels = y_train[train_index], y_train[val_index]\n",
    "\n",
    "    # Generate augmented training data\n",
    "    train_generator = datagen.flow(train_data, train_labels, batch_size=32)\n",
    "\n",
    "    # Generate augmented validation data\n",
    "    val_generator = datagen.flow(val_data, val_labels, batch_size=32)\n",
    "    \n",
    "    # Define early stopping callback\n",
    "    early_stopping = EarlyStopping(monitor='val_loss', patience=3)\n",
    "\n",
    "    # Fit the model\n",
    "    history = model.fit(\n",
    "        train_generator,\n",
    "        steps_per_epoch=len(train_data) // 32,\n",
    "        epochs=20,\n",
    "        validation_data=val_generator,\n",
    "        validation_steps=len(val_data) // 32, callbacks=[early_stopping]\n",
    "    )\n",
    "     # Predict on validation data\n",
    "    val_pred = model.predict(val_data)\n",
    "\n",
    "    # Calculate metrics\n",
    "    accuracy = accuracy_score(val_labels, (val_pred > 0.5))\n",
    "    precision = precision_score(val_labels, (val_pred > 0.5), average='micro')\n",
    "    recall = recall_score(val_labels, (val_pred > 0.5), average='micro')\n",
    "    f1 = f1_score(val_labels, (val_pred > 0.5), average='micro')\n",
    "    mcc = matthews_corrcoef(val_labels, (val_pred > 0.5))\n",
    "\n",
    "    # Append metrics to lists\n",
    "    accuracy_scores.append(accuracy * 100)\n",
    "    precision_scores.append(precision)\n",
    "    recall_scores.append(recall)\n",
    "    f1_scores.append(f1)\n",
    "    mcc_scores.append(mcc)"
   ]
  },
  {
   "cell_type": "code",
   "execution_count": null,
   "id": "171b222d",
   "metadata": {},
   "outputs": [],
   "source": [
    "# Print the average metrics across all folds\n",
    "print(\"Average Cross-Validation Accuracy: %.2f%%\" % np.mean(accuracy_scores))\n",
    "print(\"Average Cross-Validation Precision: %.2f\" % np.mean(precision_scores))\n",
    "print(\"Average Cross-Validation Recall: %.2f\" % np.mean(recall_scores))\n",
    "print(\"Average Cross-Validation F1-Score: %.2f\" % np.mean(f1_scores))\n",
    "print(\"Average Cross-Validation MCC-Score: %.2f\" % np.mean(mcc_scores))\n",
    "\n",
    "# Evaluate the model on the test data\n",
    "test_pred = model.predict(x_test)\n",
    "test_accuracy = accuracy_score(y_test, (test_pred))\n",
    "test_precision = precision_score(y_test, (test_pred), average='macro')\n",
    "test_recall = recall_score(y_test, (test_pred), average='macro')\n",
    "test_f1 = f1_score(y_test, (test_pred ), average='macro')\n",
    "test_mcc = matthews_corrcoef(y_test, (test_pred))\n",
    "\n",
    "print(\"Test Accuracy: %.2f%%\" % (test_accuracy * 100))\n",
    "print(\"Test Precision: %.2f\" % test_precision)\n",
    "print(\"Test Recall: %.2f\" % test_recall)\n",
    "print(\"Test F1-Score: %.2f\" % test_f1)\n",
    "print(\"Test MCC-Score: %.2f\" % test_mcc)"
   ]
  },
  {
   "cell_type": "code",
   "execution_count": null,
   "id": "16b6d767",
   "metadata": {},
   "outputs": [],
   "source": [
    "# Print the average accuracy across all folds\n",
    "print(\"Average Cross-Validation Accuracy: %.2f%%\" % (np.mean(accuracy_scores)))\n",
    "\n",
    "# Evaluate the model on the test data\n",
    "test_scores = model.evaluate(x_test, y_test, verbose=1)\n",
    "print(\"Test Accuracy: %.2f%%\" % (test_scores[1] * 100))\n"
   ]
  },
  {
   "cell_type": "code",
   "execution_count": null,
   "id": "5c0d1e4f",
   "metadata": {},
   "outputs": [],
   "source": [
    "model.save(\"RESNET50_infection status_updated.h5\")"
   ]
  },
  {
   "cell_type": "code",
   "execution_count": null,
   "id": "c99d18e7",
   "metadata": {},
   "outputs": [],
   "source": [
    "\n",
    "# history = model1.fit(train_x, train_y,validation_split = 0.1, epochs=50, batch_size=4)\n",
    "plt.plot(history.history['accuracy'])\n",
    "plt.plot(history.history['val_accuracy'])\n",
    "plt.title('model accuracy')\n",
    "plt.ylabel('accuracy')\n",
    "plt.xlabel('epoch')\n",
    "plt.legend(['train', 'val'], loc='upper left')\n",
    "plt.show()\n",
    "plt.savefig('RESNET50_Infection status.png', dpi=300, transparent=False)"
   ]
  },
  {
   "cell_type": "code",
   "execution_count": null,
   "id": "9b7e6850",
   "metadata": {},
   "outputs": [],
   "source": [
    "# plotting loss\n",
    "plt.plot(history.history['loss'])\n",
    "plt.plot(history.history['val_loss'])\n",
    "plt.title('model loss')\n",
    "plt.ylabel('loss')\n",
    "plt.xlabel('epoch')\n",
    "plt.legend(['train', 'val'], loc='upper left')\n",
    "plt.show()\n",
    "plt.savefig('RESNET50_Infection status.png', dpi=300, transparent=False)"
   ]
  },
  {
   "cell_type": "code",
   "execution_count": null,
   "id": "0728bf08",
   "metadata": {},
   "outputs": [],
   "source": []
  },
  {
   "cell_type": "code",
   "execution_count": null,
   "id": "e5934034",
   "metadata": {},
   "outputs": [],
   "source": []
  },
  {
   "cell_type": "code",
   "execution_count": null,
   "id": "046e7519",
   "metadata": {},
   "outputs": [],
   "source": []
  }
 ],
 "metadata": {
  "kernelspec": {
   "display_name": "Python 3 (ipykernel)",
   "language": "python",
   "name": "python3"
  },
  "language_info": {
   "codemirror_mode": {
    "name": "ipython",
    "version": 3
   },
   "file_extension": ".py",
   "mimetype": "text/x-python",
   "name": "python",
   "nbconvert_exporter": "python",
   "pygments_lexer": "ipython3",
   "version": "3.9.12"
  }
 },
 "nbformat": 4,
 "nbformat_minor": 5
}
