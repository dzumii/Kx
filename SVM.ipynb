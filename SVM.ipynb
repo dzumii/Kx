{
 "cells": [
  {
   "cell_type": "code",
   "execution_count": null,
   "id": "da36694f",
   "metadata": {},
   "outputs": [],
   "source": [
    "import os\n",
    "import numpy as np\n",
    "import cv2\n",
    "import time, datetime\n",
    "import pickle\n",
    "import psutil\n",
    "\n",
    "from imutils import paths\n",
    "from sklearn.preprocessing import LabelEncoder\n",
    "from sklearn.model_selection import train_test_split\n",
    "from sklearn.svm import SVC\n",
    "from sklearn import metrics\n",
    "from sklearn.metrics import recall_score\n",
    "from sklearn.metrics import matthews_corrcoef\n",
    "from sklearn.metrics import auc\n",
    "from sklearn.metrics import classification_report"
   ]
  },
  {
   "cell_type": "code",
   "execution_count": null,
   "id": "05c64169",
   "metadata": {},
   "outputs": [],
   "source": [
    "import opendatasets as od"
   ]
  },
  {
   "cell_type": "code",
   "execution_count": 1,
   "id": "63b2ef26",
   "metadata": {},
   "outputs": [],
   "source": [
    "#uncomment this cell to download the dataset\n",
    "#od.download('https://www.kaggle.com/datasets/iarunava/cell-images-for-detecting-malaria')"
   ]
  },
  {
   "cell_type": "code",
   "execution_count": null,
   "id": "8016367c",
   "metadata": {},
   "outputs": [],
   "source": [
    "\n",
    "class SimpleDatasetLoader:\n",
    "    # Method: Constructor\n",
    "    def __init__(self, preprocessors=None):\n",
    "        \"\"\"\n",
    "        :param preprocessors: List of image preprocessors\n",
    "        \"\"\"\n",
    "        self.preprocessors = preprocessors\n",
    "\n",
    "        if self.preprocessors is None:\n",
    "            self.preprocessors = []\n",
    "\n",
    "    # Method: Used to load a list of images for pre-processing\n",
    "    def load(self, image_paths, verbose=-1):\n",
    "        \"\"\"\n",
    "        :param image_paths: List of image paths\n",
    "        :param verbose: Parameter for printing information to console\n",
    "        :return: Tuple of data and labels\n",
    "        \"\"\"\n",
    "        data, labels = [], []\n",
    "\n",
    "        for i, image_path in enumerate(image_paths):\n",
    "            image = cv2.imread(image_path)\n",
    "            label = image_path.split(os.path.sep)[-2]\n",
    "\n",
    "            if self.preprocessors is not None:\n",
    "                for p in self.preprocessors:\n",
    "                    image = p.preprocess(image)\n",
    "\n",
    "            data.append(image)\n",
    "            labels.append(label)\n",
    "\n",
    "            if verbose > 0 and i > 0 and (i+1) % verbose == 0:\n",
    "                print('[INFO]: Processed {}/{}'.format(i+1, len(image_paths)))\n",
    "\n",
    "        return (np.array(data), np.array(labels))"
   ]
  },
  {
   "cell_type": "code",
   "execution_count": null,
   "id": "6db2af8e",
   "metadata": {},
   "outputs": [],
   "source": [
    "#Class Preprocessror \n",
    "class SimplePreprocessor:\n",
    "    # Method: Constructor\n",
    "    def __init__(self, width, height, interpolation=cv2.INTER_AREA):\n",
    "        \"\"\"\n",
    "        :param width: Image width\n",
    "        :param height: Image height\n",
    "        :param interpolation: Interpolation algorithm\n",
    "        \"\"\"\n",
    "        self.width = width\n",
    "        self.height = height\n",
    "        self.interpolation = interpolation\n",
    "\n",
    "    # Method: Used to resize the image to a fixed size (ignoring the aspect ratio)\n",
    "    def preprocess(self, image):\n",
    "        \"\"\"\n",
    "        :param image: Image\n",
    "        :return: Re-sized image\n",
    "        \"\"\"\n",
    "        return cv2.resize(image, (self.width, self.height), interpolation=self.interpolation)"
   ]
  },
  {
   "cell_type": "code",
   "execution_count": null,
   "id": "11731516",
   "metadata": {},
   "outputs": [],
   "source": [
    "\n",
    "from __main__ import SimplePreprocessor\n",
    "from __main__ import SimpleDatasetLoader"
   ]
  },
  {
   "cell_type": "code",
   "execution_count": null,
   "id": "2195fb77",
   "metadata": {},
   "outputs": [],
   "source": [
    "# Get list of image paths\n",
    "\n",
    "image_paths = list(paths.list_images(r\".\\cell-images-for-detecting-malaria\\cell_images\\cell_images\"))\n",
    "\n",
    "# Initialize SimplePreprocessor and SimpleDatasetLoader and load data and labels\n",
    "print('[INFO]: Images loading....')\n",
    "sp = SimplePreprocessor(32, 32)\n",
    "sdl = SimpleDatasetLoader(preprocessors=[sp])\n",
    "(data, labels) = sdl.load(image_paths, verbose=13779)"
   ]
  },
  {
   "cell_type": "code",
   "execution_count": null,
   "id": "adb9a750",
   "metadata": {},
   "outputs": [],
   "source": [
    "print(data.shape)\n",
    "print(labels.shape)"
   ]
  },
  {
   "cell_type": "code",
   "execution_count": null,
   "id": "14642446",
   "metadata": {},
   "outputs": [],
   "source": [
    "# Reshape\n",
    "data = data.reshape((data.shape[0], 3072))"
   ]
  },
  {
   "cell_type": "code",
   "execution_count": null,
   "id": "e16ed2f1",
   "metadata": {},
   "outputs": [],
   "source": [
    "print('Min: {}, Max: {}'.format(data.min(), data.max()))\n",
    "Max = float(data.max())\n",
    "data = data / Max"
   ]
  },
  {
   "cell_type": "code",
   "execution_count": null,
   "id": "2c84f9c1",
   "metadata": {},
   "outputs": [],
   "source": [
    "data, x_test, labels, y_test = train_test_split(data, labels, test_size=0.3, random_state=42)"
   ]
  },
  {
   "cell_type": "code",
   "execution_count": null,
   "id": "b7d8bf1c",
   "metadata": {},
   "outputs": [],
   "source": [
    "le = LabelEncoder()\n",
    "labels = le.fit_transform(labels)"
   ]
  },
  {
   "cell_type": "code",
   "execution_count": null,
   "id": "eb04b028",
   "metadata": {},
   "outputs": [],
   "source": [
    "model = SVC(C=1, kernel='linear', gamma=\"auto\")"
   ]
  },
  {
   "cell_type": "code",
   "execution_count": null,
   "id": "c24f8757",
   "metadata": {},
   "outputs": [],
   "source": [
    "x_mean = data.mean(axis=0)\n",
    "print(x_mean)\n",
    "\n",
    "data_nm = data - x_mean\n",
    "\n",
    "print('Min: {}, Max: {}'.format(data_nm.min(), data_nm.max()))\n",
    "print(data_nm.shape)"
   ]
  },
  {
   "cell_type": "code",
   "execution_count": null,
   "id": "7cb2b448",
   "metadata": {},
   "outputs": [],
   "source": [
    "start = datetime.datetime.now()\n",
    "time.sleep(10)\n",
    "\n",
    "model.fit(data_nm, labels)\n",
    "print(psutil.Process(os.getpid()).memory_info().rss / 1024 ** 2)\n",
    "\n",
    "end = datetime.datetime.now()\n",
    "diff = (end - start)\n",
    "print(f\"SVM Train Time: {diff}\")"
   ]
  },
  {
   "cell_type": "code",
   "execution_count": null,
   "id": "072de480",
   "metadata": {},
   "outputs": [],
   "source": [
    "start = datetime.datetime.now()\n",
    "time.sleep(10)\n",
    "\n",
    "preds = model.predict(x_test)\n",
    "print(psutil.Process(os.getpid()).memory_info().rss / 1024 ** 2)\n",
    "\n",
    "end = datetime.datetime.now()\n",
    "diff = (end - start)\n",
    "print(f\"SVM Inference Time: {diff}\")"
   ]
  },
  {
   "cell_type": "code",
   "execution_count": null,
   "id": "669971e4",
   "metadata": {},
   "outputs": [],
   "source": [
    "y_test = le.fit_transform(y_test)"
   ]
  },
  {
   "cell_type": "code",
   "execution_count": null,
   "id": "ca3a978d",
   "metadata": {},
   "outputs": [],
   "source": [
    "print(classification_report(y_test, preds))\n",
    "svm_accuracy = metrics.accuracy_score(y_test, preds)\n",
    "svm_auc = metrics.roc_auc_score(y_test, preds)\n",
    "svm_mcc = metrics.matthews_corrcoef(y_test, preds)\n",
    "svm_spec =recall_score(y_test, preds,pos_label=0)\n",
    "print(\"Accuracy score: {}\".format(svm_accuracy))\n",
    "print(\"auc: {}\".format(svm_auc))\n",
    "print(\"mcc: {}\".format(svm_mcc))\n",
    "print(\"Specificity: {}\".format(svm_spec))"
   ]
  },
  {
   "cell_type": "code",
   "execution_count": null,
   "id": "9220b7eb",
   "metadata": {},
   "outputs": [],
   "source": [
    "pickle.dump(model, open(\"svm.pkl\", \"wb\"))"
   ]
  },
  {
   "cell_type": "code",
   "execution_count": null,
   "id": "b45e9e5d",
   "metadata": {},
   "outputs": [],
   "source": []
  }
 ],
 "metadata": {
  "kernelspec": {
   "display_name": "Python 3 (ipykernel)",
   "language": "python",
   "name": "python3"
  },
  "language_info": {
   "codemirror_mode": {
    "name": "ipython",
    "version": 3
   },
   "file_extension": ".py",
   "mimetype": "text/x-python",
   "name": "python",
   "nbconvert_exporter": "python",
   "pygments_lexer": "ipython3",
   "version": "3.9.12"
  }
 },
 "nbformat": 4,
 "nbformat_minor": 5
}
